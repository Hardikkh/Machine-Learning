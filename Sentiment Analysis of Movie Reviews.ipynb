{
 "cells": [
  {
   "cell_type": "markdown",
   "metadata": {
    "colab_type": "text",
    "id": "fSLrBEs_aifT"
   },
   "source": [
    "# Preprocessing"
   ]
  },
  {
   "cell_type": "code",
   "execution_count": 1,
   "metadata": {
    "colab": {
     "base_uri": "https://localhost:8080/",
     "height": 34
    },
    "colab_type": "code",
    "id": "omkHunTW4GCk",
    "outputId": "91564ac5-c828-4d81-f417-0717c7606ab9"
   },
   "outputs": [
    {
     "name": "stderr",
     "output_type": "stream",
     "text": [
      "Using TensorFlow backend.\n"
     ]
    }
   ],
   "source": [
    "from keras.datasets import imdb\n",
    "import numpy as np"
   ]
  },
  {
   "cell_type": "code",
   "execution_count": 2,
   "metadata": {
    "colab": {
     "base_uri": "https://localhost:8080/",
     "height": 51
    },
    "colab_type": "code",
    "id": "_LrNM7Cf8YTm",
    "outputId": "716cbb92-0acc-44b3-89ab-2540ee47e014"
   },
   "outputs": [
    {
     "name": "stdout",
     "output_type": "stream",
     "text": [
      "Downloading data from https://s3.amazonaws.com/text-datasets/imdb.npz\n",
      "17465344/17464789 [==============================] - 14s 1us/step\n"
     ]
    }
   ],
   "source": [
    "np_load_old = np.load\n",
    "\n",
    "np.load = lambda *a,**k: np_load_old(*a, allow_pickle=True, **k)\n",
    "\n",
    "((XT,YT),(Xt,Yt)) = imdb.load_data(num_words=10000)\n",
    "\n",
    "np.load = np_load_old"
   ]
  },
  {
   "cell_type": "code",
   "execution_count": 0,
   "metadata": {
    "colab": {
     "base_uri": "https://localhost:8080/",
     "height": 51
    },
    "colab_type": "code",
    "id": "gb9q5iOZ-P_3",
    "outputId": "f573adc8-cd6f-4f26-8ca6-c424f2ef2cab"
   },
   "outputs": [
    {
     "name": "stdout",
     "output_type": "stream",
     "text": [
      "25000\n",
      "25000\n"
     ]
    }
   ],
   "source": [
    "print(len(XT))\n",
    "print(len(Xt))"
   ]
  },
  {
   "cell_type": "code",
   "execution_count": 9,
   "metadata": {
    "colab": {
     "base_uri": "https://localhost:8080/",
     "height": 88
    },
    "colab_type": "code",
    "id": "xQ2cnm8QCF-y",
    "outputId": "14e8b107-cd27-4913-9d05-601448670710"
   },
   "outputs": [],
   "source": [
    "word_idx = imdb.get_word_index()"
   ]
  },
  {
   "cell_type": "code",
   "execution_count": 10,
   "metadata": {
    "colab": {
     "base_uri": "https://localhost:8080/",
     "height": 54
    },
    "colab_type": "code",
    "id": "WmkfuwsHDRlG",
    "outputId": "88e18385-93b8-46d0-fe08-806681c62806"
   },
   "outputs": [],
   "source": [
    "idx_word = dict([value,key] for key,value in word_idx.items())"
   ]
  },
  {
   "cell_type": "code",
   "execution_count": 11,
   "metadata": {
    "colab": {
     "base_uri": "https://localhost:8080/",
     "height": 54
    },
    "colab_type": "code",
    "id": "XDeuymqHD-EH",
    "outputId": "f1c9e394-2aab-4613-d8a8-548d8eb92e4c"
   },
   "outputs": [
    {
     "name": "stdout",
     "output_type": "stream",
     "text": [
      "? this film was just brilliant casting location scenery story direction everyone's really suited the part they played and you could just imagine being there robert ? is an amazing actor and now the same being director ? father came from the same scottish island as myself so i loved the fact there was a real connection with this film the witty remarks throughout the film were great it was just brilliant so much that i bought the film as soon as it was released for ? and would recommend it to everyone to watch and the fly fishing was amazing really cried at the end it was so sad and you know what they say if you cry at a film it must have been good and this definitely was also ? to the two little boy's that played the ? of norman and paul they were just brilliant children are often left out of the ? list i think because the stars that play them all grown up are such a big profile for the whole film but these children are amazing and should be praised for what they have done don't you think the whole story was so lovely because it was true and was someone's life after all that was shared with us all\n"
     ]
    }
   ],
   "source": [
    "actual_review = ' '.join([idx_word.get(idx-3,\"?\") for idx in XT[0]])\n",
    "\n",
    "print(actual_review)"
   ]
  },
  {
   "cell_type": "code",
   "execution_count": 0,
   "metadata": {
    "colab": {},
    "colab_type": "code",
    "id": "Z5pDxz8hOHO4"
   },
   "outputs": [],
   "source": [
    "def vectorize_sentences(sentences,dim=10000):\n",
    "  outputs = np.zeros((len(sentences),dim))\n",
    "  \n",
    "  for i,idx in enumerate(sentences):\n",
    "    outputs[i,idx] = 1\n",
    "    \n",
    "  return outputs"
   ]
  },
  {
   "cell_type": "code",
   "execution_count": 0,
   "metadata": {
    "colab": {
     "base_uri": "https://localhost:8080/",
     "height": 51
    },
    "colab_type": "code",
    "id": "iwTI0tmSQDzU",
    "outputId": "a78d833c-72eb-4439-bfdc-5b245ca52f40"
   },
   "outputs": [
    {
     "name": "stdout",
     "output_type": "stream",
     "text": [
      "(25000, 10000)\n",
      "(25000, 10000)\n"
     ]
    }
   ],
   "source": [
    "X_train = vectorize_sentences(XT)\n",
    "X_test = vectorize_sentences(Xt)\n",
    "\n",
    "print(X_train.shape)\n",
    "print(X_test.shape)"
   ]
  },
  {
   "cell_type": "code",
   "execution_count": 0,
   "metadata": {
    "colab": {},
    "colab_type": "code",
    "id": "6ax6qZvhQkET"
   },
   "outputs": [],
   "source": [
    "Y_train = np.asarray(YT).astype('float32')\n",
    "Y_test = np.asarray(Yt).astype('float32')"
   ]
  },
  {
   "cell_type": "markdown",
   "metadata": {
    "colab_type": "text",
    "id": "catWU6VmVeGY"
   },
   "source": [
    "# Model"
   ]
  },
  {
   "cell_type": "code",
   "execution_count": 12,
   "metadata": {
    "colab": {},
    "colab_type": "code",
    "id": "SZkwhyPFVsi8"
   },
   "outputs": [],
   "source": [
    "from keras import models\n",
    "from keras.layers import Dense"
   ]
  },
  {
   "cell_type": "code",
   "execution_count": 13,
   "metadata": {
    "colab": {
     "base_uri": "https://localhost:8080/",
     "height": 156
    },
    "colab_type": "code",
    "id": "4zHB9lsYWAgx",
    "outputId": "9fdcb4c9-d74b-473e-db5d-0180b8e5394f"
   },
   "outputs": [
    {
     "name": "stderr",
     "output_type": "stream",
     "text": [
      "WARNING: Logging before flag parsing goes to stderr.\n",
      "W0809 00:31:02.959355  6744 deprecation_wrapper.py:119] From C:\\Users\\Hardik Kharbanda\\Anaconda3\\lib\\site-packages\\keras\\backend\\tensorflow_backend.py:74: The name tf.get_default_graph is deprecated. Please use tf.compat.v1.get_default_graph instead.\n",
      "\n",
      "W0809 00:31:02.981297  6744 deprecation_wrapper.py:119] From C:\\Users\\Hardik Kharbanda\\Anaconda3\\lib\\site-packages\\keras\\backend\\tensorflow_backend.py:517: The name tf.placeholder is deprecated. Please use tf.compat.v1.placeholder instead.\n",
      "\n",
      "W0809 00:31:02.984291  6744 deprecation_wrapper.py:119] From C:\\Users\\Hardik Kharbanda\\Anaconda3\\lib\\site-packages\\keras\\backend\\tensorflow_backend.py:4138: The name tf.random_uniform is deprecated. Please use tf.random.uniform instead.\n",
      "\n"
     ]
    }
   ],
   "source": [
    "model = models.Sequential()\n",
    "model.add(Dense(16,activation='relu',input_shape=(10000,)))\n",
    "model.add(Dense(16,activation='relu'))\n",
    "model.add(Dense(1,activation='sigmoid'))"
   ]
  },
  {
   "cell_type": "code",
   "execution_count": 0,
   "metadata": {
    "colab": {
     "base_uri": "https://localhost:8080/",
     "height": 377
    },
    "colab_type": "code",
    "id": "Zb7TP1SUXzIL",
    "outputId": "f4c8aa1f-12e7-48ab-f9ed-85f444e55e1c"
   },
   "outputs": [
    {
     "name": "stderr",
     "output_type": "stream",
     "text": [
      "W0808 18:14:46.460737 140668889552768 deprecation_wrapper.py:119] From /usr/local/lib/python3.6/dist-packages/keras/optimizers.py:790: The name tf.train.Optimizer is deprecated. Please use tf.compat.v1.train.Optimizer instead.\n",
      "\n",
      "W0808 18:14:46.481825 140668889552768 deprecation_wrapper.py:119] From /usr/local/lib/python3.6/dist-packages/keras/backend/tensorflow_backend.py:3376: The name tf.log is deprecated. Please use tf.math.log instead.\n",
      "\n",
      "W0808 18:14:46.488224 140668889552768 deprecation.py:323] From /usr/local/lib/python3.6/dist-packages/tensorflow/python/ops/nn_impl.py:180: add_dispatch_support.<locals>.wrapper (from tensorflow.python.ops.array_ops) is deprecated and will be removed in a future version.\n",
      "Instructions for updating:\n",
      "Use tf.where in 2.0, which has the same broadcast rule as np.where\n"
     ]
    },
    {
     "name": "stdout",
     "output_type": "stream",
     "text": [
      "_________________________________________________________________\n",
      "Layer (type)                 Output Shape              Param #   \n",
      "=================================================================\n",
      "dense_1 (Dense)              (None, 16)                160016    \n",
      "_________________________________________________________________\n",
      "dense_2 (Dense)              (None, 16)                272       \n",
      "_________________________________________________________________\n",
      "dense_3 (Dense)              (None, 1)                 17        \n",
      "=================================================================\n",
      "Total params: 160,305\n",
      "Trainable params: 160,305\n",
      "Non-trainable params: 0\n",
      "_________________________________________________________________\n"
     ]
    }
   ],
   "source": [
    "model.compile(optimizer='rmsprop',loss='binary_crossentropy',metrics=['accuracy'])\n",
    "\n",
    "model.summary()"
   ]
  },
  {
   "cell_type": "markdown",
   "metadata": {
    "colab_type": "text",
    "id": "LlYt8D_BZ18N"
   },
   "source": [
    "# Training and validation"
   ]
  },
  {
   "cell_type": "code",
   "execution_count": 0,
   "metadata": {
    "colab": {},
    "colab_type": "code",
    "id": "TFljRb_Abhu5"
   },
   "outputs": [],
   "source": [
    "import matplotlib.pyplot as plt"
   ]
  },
  {
   "cell_type": "code",
   "execution_count": 0,
   "metadata": {
    "colab": {},
    "colab_type": "code",
    "id": "xCmw9VaUZ768"
   },
   "outputs": [],
   "source": [
    "x_val = X_train[:5000]\n",
    "y_val = Y_train[:5000]\n",
    "\n",
    "x_train_new = X_train[5000:]\n",
    "y_train_new = Y_train[5000:]"
   ]
  },
  {
   "cell_type": "code",
   "execution_count": 0,
   "metadata": {
    "colab": {
     "base_uri": "https://localhost:8080/",
     "height": 768
    },
    "colab_type": "code",
    "id": "z6han8AuayjN",
    "outputId": "5be05ea7-41e3-4be1-c553-98a6016cf6c0"
   },
   "outputs": [
    {
     "name": "stderr",
     "output_type": "stream",
     "text": [
      "W0807 10:21:10.522609 139853165717376 deprecation_wrapper.py:119] From /usr/local/lib/python3.6/dist-packages/keras/backend/tensorflow_backend.py:986: The name tf.assign_add is deprecated. Please use tf.compat.v1.assign_add instead.\n",
      "\n"
     ]
    },
    {
     "name": "stdout",
     "output_type": "stream",
     "text": [
      "Train on 20000 samples, validate on 5000 samples\n",
      "Epoch 1/20\n",
      "20000/20000 [==============================] - 5s 265us/step - loss: 0.4726 - acc: 0.8065 - val_loss: 0.3671 - val_acc: 0.8576\n",
      "Epoch 2/20\n",
      "20000/20000 [==============================] - 1s 71us/step - loss: 0.2718 - acc: 0.9059 - val_loss: 0.2939 - val_acc: 0.8864\n",
      "Epoch 3/20\n",
      "20000/20000 [==============================] - 1s 71us/step - loss: 0.2025 - acc: 0.9306 - val_loss: 0.2697 - val_acc: 0.8916\n",
      "Epoch 4/20\n",
      "20000/20000 [==============================] - 1s 71us/step - loss: 0.1668 - acc: 0.9412 - val_loss: 0.2804 - val_acc: 0.8904\n",
      "Epoch 5/20\n",
      "20000/20000 [==============================] - 1s 70us/step - loss: 0.1407 - acc: 0.9516 - val_loss: 0.2834 - val_acc: 0.8898\n",
      "Epoch 6/20\n",
      "20000/20000 [==============================] - 1s 71us/step - loss: 0.1189 - acc: 0.9593 - val_loss: 0.3087 - val_acc: 0.8862\n",
      "Epoch 7/20\n",
      "20000/20000 [==============================] - 1s 70us/step - loss: 0.1058 - acc: 0.9648 - val_loss: 0.3275 - val_acc: 0.8832\n",
      "Epoch 8/20\n",
      "20000/20000 [==============================] - 1s 72us/step - loss: 0.0855 - acc: 0.9730 - val_loss: 0.4071 - val_acc: 0.8666\n",
      "Epoch 9/20\n",
      "20000/20000 [==============================] - 1s 70us/step - loss: 0.0771 - acc: 0.9755 - val_loss: 0.4581 - val_acc: 0.8616\n",
      "Epoch 10/20\n",
      "20000/20000 [==============================] - 1s 71us/step - loss: 0.0670 - acc: 0.9796 - val_loss: 0.4303 - val_acc: 0.8718\n",
      "Epoch 11/20\n",
      "20000/20000 [==============================] - 1s 71us/step - loss: 0.0574 - acc: 0.9829 - val_loss: 0.4232 - val_acc: 0.8744\n",
      "Epoch 12/20\n",
      "20000/20000 [==============================] - 1s 71us/step - loss: 0.0484 - acc: 0.9860 - val_loss: 0.5677 - val_acc: 0.8562\n",
      "Epoch 13/20\n",
      "20000/20000 [==============================] - 1s 71us/step - loss: 0.0412 - acc: 0.9892 - val_loss: 0.5286 - val_acc: 0.8660\n",
      "Epoch 14/20\n",
      "20000/20000 [==============================] - 1s 71us/step - loss: 0.0373 - acc: 0.9890 - val_loss: 0.5191 - val_acc: 0.8708\n",
      "Epoch 15/20\n",
      "20000/20000 [==============================] - 1s 70us/step - loss: 0.0287 - acc: 0.9928 - val_loss: 0.5847 - val_acc: 0.8644\n",
      "Epoch 16/20\n",
      "20000/20000 [==============================] - 1s 71us/step - loss: 0.0290 - acc: 0.9922 - val_loss: 0.5844 - val_acc: 0.8670\n",
      "Epoch 17/20\n",
      "20000/20000 [==============================] - 1s 71us/step - loss: 0.0217 - acc: 0.9945 - val_loss: 0.6171 - val_acc: 0.8654\n",
      "Epoch 18/20\n",
      "20000/20000 [==============================] - 1s 71us/step - loss: 0.0171 - acc: 0.9970 - val_loss: 0.6510 - val_acc: 0.8634\n",
      "Epoch 19/20\n",
      "20000/20000 [==============================] - 1s 70us/step - loss: 0.0148 - acc: 0.9970 - val_loss: 0.7022 - val_acc: 0.8630\n",
      "Epoch 20/20\n",
      "20000/20000 [==============================] - 1s 71us/step - loss: 0.0145 - acc: 0.9967 - val_loss: 0.7173 - val_acc: 0.8612\n"
     ]
    }
   ],
   "source": [
    "hist = model.fit(x_train_new,y_train_new,epochs=20,batch_size=512,validation_data=(x_val,y_val))"
   ]
  },
  {
   "cell_type": "code",
   "execution_count": 0,
   "metadata": {
    "colab": {},
    "colab_type": "code",
    "id": "EoA-yq19butE"
   },
   "outputs": [],
   "source": [
    "h = hist.history"
   ]
  },
  {
   "cell_type": "code",
   "execution_count": 0,
   "metadata": {
    "colab": {
     "base_uri": "https://localhost:8080/",
     "height": 269
    },
    "colab_type": "code",
    "id": "1pCUU8pZmP3r",
    "outputId": "d29e80ea-09be-46bc-e1b2-c84198191dde"
   },
   "outputs": [
    {
     "data": {
      "image/png": "[encoded data removed]",
      "text/plain": [
       "<Figure size 432x288 with 1 Axes>"
      ]
     },
     "metadata": {
      "tags": []
     },
     "output_type": "display_data"
    }
   ],
   "source": [
    "plt.plot(h['val_loss'],label=\"Validation loss\")\n",
    "plt.plot(h['loss'],label='Training loss')\n",
    "plt.legend()\n",
    "plt.show()"
   ]
  },
  {
   "cell_type": "code",
   "execution_count": 0,
   "metadata": {
    "colab": {
     "base_uri": "https://localhost:8080/",
     "height": 269
    },
    "colab_type": "code",
    "id": "4zyxfvcPnIa_",
    "outputId": "24ed60e6-192b-40d2-979f-858cf73bdca8"
   },
   "outputs": [
    {
     "data": {
      "image/png": "[encoded data removed]",
      "text/plain": [
       "<Figure size 432x288 with 1 Axes>"
      ]
     },
     "metadata": {
      "tags": []
     },
     "output_type": "display_data"
    }
   ],
   "source": [
    "plt.plot(h['val_acc'],label=\"Validation acc\")\n",
    "plt.plot(h['acc'],label='Training acc')\n",
    "plt.legend()\n",
    "plt.show()"
   ]
  },
  {
   "cell_type": "markdown",
   "metadata": {
    "colab_type": "text",
    "id": "wZogaZ9jct7U"
   },
   "source": [
    "* With 20 epochs, the training accuracy increased but the validation accuracy decreased. This indicates overfitting on training data.\n",
    "* From the above graph it is evident that the validation accuracy starts decreasing after 4 epochs.\n",
    "* Hence, we train the model for four epochs to prevent overfitting\n",
    "\n"
   ]
  },
  {
   "cell_type": "code",
   "execution_count": 0,
   "metadata": {
    "colab": {
     "base_uri": "https://localhost:8080/",
     "height": 224
    },
    "colab_type": "code",
    "id": "ZKuRKsWjo6EL",
    "outputId": "e811ee14-6404-4d2c-f504-f405002e9693"
   },
   "outputs": [
    {
     "name": "stderr",
     "output_type": "stream",
     "text": [
      "W0808 18:15:06.713642 140668889552768 deprecation_wrapper.py:119] From /usr/local/lib/python3.6/dist-packages/keras/backend/tensorflow_backend.py:986: The name tf.assign_add is deprecated. Please use tf.compat.v1.assign_add instead.\n",
      "\n"
     ]
    },
    {
     "name": "stdout",
     "output_type": "stream",
     "text": [
      "Train on 20000 samples, validate on 5000 samples\n",
      "Epoch 1/4\n",
      "20000/20000 [==============================] - 6s 286us/step - loss: 0.4726 - acc: 0.8065 - val_loss: 0.3671 - val_acc: 0.8576\n",
      "Epoch 2/4\n",
      "20000/20000 [==============================] - 2s 75us/step - loss: 0.2718 - acc: 0.9059 - val_loss: 0.2939 - val_acc: 0.8864\n",
      "Epoch 3/4\n",
      "20000/20000 [==============================] - 1s 69us/step - loss: 0.2025 - acc: 0.9306 - val_loss: 0.2697 - val_acc: 0.8916\n",
      "Epoch 4/4\n",
      "20000/20000 [==============================] - 1s 67us/step - loss: 0.1668 - acc: 0.9412 - val_loss: 0.2804 - val_acc: 0.8904\n"
     ]
    }
   ],
   "source": [
    "hist_new = model.fit(x_train_new,y_train_new,epochs=4,batch_size=512,validation_data=(x_val,y_val))"
   ]
  },
  {
   "cell_type": "code",
   "execution_count": 0,
   "metadata": {
    "colab": {},
    "colab_type": "code",
    "id": "jnr3DEmho-tn"
   },
   "outputs": [],
   "source": [
    "h_new = hist_new.history"
   ]
  },
  {
   "cell_type": "code",
   "execution_count": 0,
   "metadata": {
    "colab": {
     "base_uri": "https://localhost:8080/",
     "height": 269
    },
    "colab_type": "code",
    "id": "uof6AscNpQpX",
    "outputId": "11e2065d-3333-40d2-80c6-2ac7f2fbc53a"
   },
   "outputs": [
    {
     "data": {
      "image/png": "[encoded data removed]",
      "text/plain": [
       "<Figure size 432x288 with 1 Axes>"
      ]
     },
     "metadata": {
      "tags": []
     },
     "output_type": "display_data"
    }
   ],
   "source": [
    "plt.plot(h_new['val_loss'],label=\"Validation loss\")\n",
    "plt.plot(h_new['loss'],label='Training loss')\n",
    "plt.legend()\n",
    "plt.show()"
   ]
  },
  {
   "cell_type": "code",
   "execution_count": 0,
   "metadata": {
    "colab": {
     "base_uri": "https://localhost:8080/",
     "height": 269
    },
    "colab_type": "code",
    "id": "9MAHFm1QpiaF",
    "outputId": "4ec6ace4-1c30-4d5a-8d48-622438bd6b29"
   },
   "outputs": [
    {
     "data": {
      "image/png": "[encoded data removed]",
      "text/plain": [
       "<Figure size 432x288 with 1 Axes>"
      ]
     },
     "metadata": {
      "tags": []
     },
     "output_type": "display_data"
    }
   ],
   "source": [
    "plt.plot(h_new['val_acc'],label=\"Validation acc\")\n",
    "plt.plot(h_new['acc'],label='Training acc')\n",
    "plt.legend()\n",
    "plt.show()"
   ]
  },
  {
   "cell_type": "code",
   "execution_count": 0,
   "metadata": {
    "colab": {
     "base_uri": "https://localhost:8080/",
     "height": 51
    },
    "colab_type": "code",
    "id": "ReHPWUEKq3Xl",
    "outputId": "b0a82e56-a0ef-4421-e0cd-1c2a94c2a4fc"
   },
   "outputs": [
    {
     "name": "stdout",
     "output_type": "stream",
     "text": [
      "20000/20000 [==============================] - 2s 79us/step\n"
     ]
    },
    {
     "data": {
      "text/plain": [
       "0.95955"
      ]
     },
     "execution_count": 21,
     "metadata": {
      "tags": []
     },
     "output_type": "execute_result"
    }
   ],
   "source": [
    "model.evaluate(x_train_new,y_train_new)[1]"
   ]
  },
  {
   "cell_type": "code",
   "execution_count": 0,
   "metadata": {
    "colab": {
     "base_uri": "https://localhost:8080/",
     "height": 51
    },
    "colab_type": "code",
    "id": "ZP3FKnhoqHhw",
    "outputId": "048855c7-b9ba-47b5-b4f6-e87f333d4dce"
   },
   "outputs": [
    {
     "name": "stdout",
     "output_type": "stream",
     "text": [
      "25000/25000 [==============================] - 2s 88us/step\n"
     ]
    },
    {
     "data": {
      "text/plain": [
       "0.87928"
      ]
     },
     "execution_count": 20,
     "metadata": {
      "tags": []
     },
     "output_type": "execute_result"
    }
   ],
   "source": [
    "model.evaluate(X_test,Y_test)[1]"
   ]
  },
  {
   "cell_type": "markdown",
   "metadata": {
    "colab_type": "text",
    "id": "ZV-RNqfWd63r"
   },
   "source": [
    "We have achieved an accuracy of about 88 % on testing data."
   ]
  }
 ],
 "metadata": {
  "accelerator": "GPU",
  "colab": {
   "collapsed_sections": [],
   "name": "Sentiment analysis",
   "provenance": [],
   "version": "0.3.2"
  },
  "kernelspec": {
   "display_name": "Python 3",
   "language": "python",
   "name": "python3"
  },
  "language_info": {
   "codemirror_mode": {
    "name": "ipython",
    "version": 3
   },
   "file_extension": ".py",
   "mimetype": "text/x-python",
   "name": "python",
   "nbconvert_exporter": "python",
   "pygments_lexer": "ipython3",
   "version": "3.7.3"
  }
 },
 "nbformat": 4,
 "nbformat_minor": 1
}
